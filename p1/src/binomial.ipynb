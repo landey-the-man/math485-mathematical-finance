{
 "cells": [
  {
   "cell_type": "code",
   "execution_count": 1,
   "metadata": {
    "collapsed": true
   },
   "outputs": [],
   "source": [
    "import numpy as np\n",
    "from abc import ABC, abstractmethod\n",
    "\n",
    "\n",
    "class InterestRate:\n",
    "    def __init__(self, rate, short_term=False):\n",
    "        self.rate = rate\n",
    "        self.short_term = short_term\n",
    "\n",
    "    def __str__(self):\n",
    "        return str(self.__dict__)\n",
    "\n",
    "    def __repr__(self):\n",
    "        return self.__str__()\n",
    "\n",
    "\n",
    "class BinomialModel(ABC):\n",
    "    def __init__(self, s0, K, T, u, d, r, n_periods, option='put'):\n",
    "        self.s0 = s0\n",
    "        self.K = K\n",
    "        self.T = T\n",
    "        self.u = u\n",
    "        self.d = d\n",
    "        self.r = r\n",
    "        self.n = n_periods\n",
    "        self.option = option\n",
    "        self.compute_dt()\n",
    "        self.compute_probabilities()\n",
    "\n",
    "    def compute_dt(self):\n",
    "        if self.r.short_term:\n",
    "            self.dt = 1\n",
    "        else:\n",
    "            self.dt = self.T / self.n\n",
    "\n",
    "    def compute_probabilities(self):\n",
    "        self.p = (np.exp(self.r.rate * self.dt) - self.d) / (self.u - self.d)\n",
    "        self.q = 1 - self.p\n",
    "\n",
    "    def stock_tree(self):\n",
    "        stock_tree = np.zeros((self.n + 1, self.n + 1))\n",
    "        stock_tree[0, 0] = self.s0\n",
    "        for i in range(1, self.n + 1):\n",
    "            stock_tree[i, 0] = stock_tree[i - 1, 0] * self.u\n",
    "            for j in range(1, i + 1):\n",
    "                stock_tree[i, j] = stock_tree[i - 1, j - 1] * self.d\n",
    "        return stock_tree\n",
    "\n",
    "    @abstractmethod\n",
    "    def payoff(self, st):\n",
    "        pass\n",
    "\n",
    "    @abstractmethod\n",
    "    def derivative_tree(self, stock_tree):\n",
    "        pass\n",
    "\n",
    "    @abstractmethod\n",
    "    def price(self):\n",
    "        pass\n",
    "\n",
    "    def __str__(self):\n",
    "        return str(self.__dict__)\n",
    "\n",
    "    def __repr__(self):\n",
    "        return self.__str__()\n",
    "\n",
    "\n",
    "class EuropeanVanillaModel(BinomialModel):\n",
    "    def payoff(self, st):\n",
    "        if self.option == 'put':\n",
    "            return max(self.K - st, 0)\n",
    "        if self.option == 'call':\n",
    "            return max(st - self.K, 0)\n",
    "        \n",
    "        raise Exception('option must be put or call, you entered:', self.option)\n",
    "\n",
    "    def derivative_tree(self, stock_tree):\n",
    "        d_tree = np.zeros((self.n + 1, self.n + 1))\n",
    "        for i in range(self.n + 1):\n",
    "            d_tree[self.n, i] = self.payoff(stock_tree[self.n, i])\n",
    "\n",
    "        exp = np.exp(-1 * self.r.rate * self.dt)\n",
    "        for i in range(self.n - 1, -1, -1):\n",
    "            for j in range(i + 1):\n",
    "                d_tree[i, j] = exp * (self.p * d_tree[i + 1, j] + self.q * d_tree[i + 1, j + 1])\n",
    "        return d_tree\n",
    "\n",
    "    def price(self):\n",
    "        s_tree = self.stock_tree()\n",
    "        d_tree = self.derivative_tree(s_tree)\n",
    "        return d_tree[0, 0]"
   ]
  },
  {
   "cell_type": "code",
   "execution_count": 2,
   "metadata": {
    "collapsed": false
   },
   "outputs": [
    {
     "data": {
      "text/plain": [
       "1.2821849452741405"
      ]
     },
     "execution_count": 2,
     "metadata": {},
     "output_type": "execute_result"
    }
   ],
   "source": [
    "r = InterestRate(0.12, short_term=False)\n",
    "european_call = EuropeanVanillaModel(20, 21, .5, 1.1, .9, r, n_periods=2, option='call')\n",
    "european_call.price()"
   ]
  },
  {
   "cell_type": "code",
   "execution_count": 3,
   "metadata": {
    "collapsed": false
   },
   "outputs": [
    {
     "data": {
      "text/plain": [
       "17.397113747817905"
      ]
     },
     "execution_count": 3,
     "metadata": {},
     "output_type": "execute_result"
    }
   ],
   "source": [
    "r = InterestRate(0.04, short_term=True)\n",
    "european_put = EuropeanVanillaModel(80, 100, 2, 1.2, .8, r, 2, option='put')\n",
    "european_put.price()"
   ]
  }
 ],
 "metadata": {
  "kernelspec": {
   "display_name": "Python [conda root]",
   "language": "python",
   "name": "conda-root-py"
  },
  "language_info": {
   "codemirror_mode": {
    "name": "ipython",
    "version": 3
   },
   "file_extension": ".py",
   "mimetype": "text/x-python",
   "name": "python",
   "nbconvert_exporter": "python",
   "pygments_lexer": "ipython3",
   "version": "3.5.2"
  }
 },
 "nbformat": 4,
 "nbformat_minor": 0
}
